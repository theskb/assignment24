{
 "cells": [
  {
   "cell_type": "code",
   "execution_count": null,
   "metadata": {},
   "outputs": [],
   "source": [
    "#Q1.What is the relationship between def statements and lambda expressions ?"
   ]
  },
  {
   "cell_type": "code",
   "execution_count": null,
   "metadata": {},
   "outputs": [],
   "source": [
    "#ANS:-def statement needs to define a function with a name and we may need to pass value.\n",
    "#After the executuion,it needed to return the result from where the function was called using return keyword.\n",
    "\n",
    "#lambda does not required return statement,it alway contain a expression taht is returned.\n",
    "#it can use lambda definition where function is expected and we don't have to aasign it to a variable ."
   ]
  },
  {
   "cell_type": "code",
   "execution_count": null,
   "metadata": {},
   "outputs": [],
   "source": [
    "#Q2. What is the benefit of lambda?"
   ]
  },
  {
   "cell_type": "code",
   "execution_count": null,
   "metadata": {},
   "outputs": [],
   "source": [
    "#ANS:-codes are simpler and short.No additional variable are added."
   ]
  },
  {
   "cell_type": "code",
   "execution_count": null,
   "metadata": {},
   "outputs": [],
   "source": [
    "#3. Compare and contrast map, filter, and reduce."
   ]
  },
  {
   "cell_type": "code",
   "execution_count": null,
   "metadata": {},
   "outputs": [],
   "source": [
    "#ANS:-map() function iterates through all item in the given iterable \n",
    "#and execute the function we passed as an argument on each of them.\n",
    "#syntax: map(function,iterable(s))\n",
    "# filter(), first of all requires the function to return boolean value and then passes each elemet in the iterable through the function.\n",
    "#syntax: filter(function,iterable(s))\n",
    "#reduce() applies a function of two arguments cumulatively to the elements of an iterable, optionally starting with an initial argument.\n",
    "#syntax: reduce(function, sequence[, initial])"
   ]
  },
  {
   "cell_type": "code",
   "execution_count": null,
   "metadata": {},
   "outputs": [],
   "source": [
    "#Q4. What are function annotations, and how are they used?"
   ]
  },
  {
   "cell_type": "code",
   "execution_count": null,
   "metadata": {},
   "outputs": [],
   "source": [
    "#ANS:-Function annotations are arbitrary python expressions that are associated with various part of functions. \n",
    "#These expressions are evaluated at compile time and have no life in python’s runtime environment. \n",
    "#Python does not attach any meaning to these annotations. \n",
    "# annotation for simple parameter\n",
    "# def ant(a: expression, b: expression = 5):\n",
    "##Annotations for excess parameters :\n",
    "#def ant(*args: expression, *kwargs: expression):"
   ]
  },
  {
   "cell_type": "code",
   "execution_count": null,
   "metadata": {},
   "outputs": [],
   "source": [
    "#Q5. What are recursive functions, and how are they used?"
   ]
  },
  {
   "cell_type": "code",
   "execution_count": null,
   "metadata": {},
   "outputs": [],
   "source": [
    "#The process in which a function calls itself directly or indirectly is called recursion and the corresponding function is \n",
    "#called as recursive function.the function will continue to call itself untill base condition is reached."
   ]
  },
  {
   "cell_type": "code",
   "execution_count": 2,
   "metadata": {},
   "outputs": [
    {
     "data": {
      "text/plain": [
       "120"
      ]
     },
     "execution_count": 2,
     "metadata": {},
     "output_type": "execute_result"
    }
   ],
   "source": [
    "# eg\n",
    "def factorial(x):\n",
    "    if x == 1 :\n",
    "        return 1\n",
    "    else :\n",
    "        return x * factorial(x-1)\n",
    "    \n",
    "factorial(5)"
   ]
  },
  {
   "cell_type": "code",
   "execution_count": null,
   "metadata": {},
   "outputs": [],
   "source": [
    "#Q6. What are some general design guidelines for coding functions?"
   ]
  },
  {
   "cell_type": "code",
   "execution_count": null,
   "metadata": {},
   "outputs": [],
   "source": [
    "#ANS:-i)Use 4-space indentation and no tabs.\n",
    "#ii)Use docstrings\n",
    "#iii)Wrap linethat they don’t exceed 79 characters\n",
    "#iv)Use of regular and updated comments are valuable to both the coders and users\n",
    "#v)Use of trailing commas : in case of tuple -> ('ineuron',)\n",
    "#vi)Use Python’s default UTF-8 or ASCII encodings and not any fancy encodings\n",
    "#vii)Naming Conventions 8.Characters that should not be used for identifiers : \n",
    "#‘l’ (lowercase letter el), ‘O’ (uppercase letter oh), ‘I’ (uppercase letter eye) as single character variable names as these are similar to the numerals one and zero.\n",
    "#viii)Don’t use non-ASCII characters in identifiers\n",
    "#ix)Name your classes and functions consistently\n",
    "#x)While naming of function of methods always use self for the first argument"
   ]
  },
  {
   "cell_type": "code",
   "execution_count": null,
   "metadata": {},
   "outputs": [],
   "source": [
    "#Q7. Name three or more ways that functions can communicate results to a caller."
   ]
  },
  {
   "cell_type": "code",
   "execution_count": null,
   "metadata": {},
   "outputs": [],
   "source": [
    "#ANS:-function can return single value\n",
    "#function return multiple value\n",
    "#return function object"
   ]
  },
  {
   "cell_type": "code",
   "execution_count": null,
   "metadata": {},
   "outputs": [],
   "source": []
  }
 ],
 "metadata": {
  "kernelspec": {
   "display_name": "Python 3",
   "language": "python",
   "name": "python3"
  },
  "language_info": {
   "codemirror_mode": {
    "name": "ipython",
    "version": 3
   },
   "file_extension": ".py",
   "mimetype": "text/x-python",
   "name": "python",
   "nbconvert_exporter": "python",
   "pygments_lexer": "ipython3",
   "version": "3.8.5"
  }
 },
 "nbformat": 4,
 "nbformat_minor": 4
}
